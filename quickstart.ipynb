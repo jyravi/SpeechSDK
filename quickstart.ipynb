{
 "cells": [
  {
   "cell_type": "markdown",
   "metadata": {},
   "source": [
    "# Quickstart: Using the Speech Service from Python\n",
    "\n",
    "This sample shows how to use the Speech Service through the Speech SDK for Python. It illustrates how the SDK can be used to recognize speech from microphone input.\n",
    "\n",
    "See the [accompanying article](https://docs.microsoft.com/azure/cognitive-services/speech-service/quickstart-python) on the SDK documentation page for step-by-step instructions.\n",
    "\n",
    "## Prerequisites\n",
    "\n",
    "Before you get started, here's a list of prerequisites:\n",
    "\n",
    "* A subscription key for the Speech service. See [Try the speech service for free](https://docs.microsoft.com/azure/cognitive-services/speech-service/get-started).\n",
    "* Python 3.5 or later needs to be installed. Downloads are available [here](https://www.python.org/downloads/).\n",
    "* The Python Speech SDK package is available for Windows (x64 or x86), Mac (macOS X version 10.12 or later), and Linux (x64; Ubuntu 16.04 or Ubuntu 18.04).\n",
    "* On Ubuntu 16.04 or 18.04, run the following commands for the installation of required packages:\n",
    "  ```sh\n",
    "  sudo apt-get update\n",
    "  sudo apt-get install libssl1.0.0 libasound2\n",
    "  ```\n",
    "* On Debian 9, run the following commands for the installation of required packages:\n",
    "  ```sh\n",
    "  sudo apt-get update\n",
    "  sudo apt-get install libssl1.0.2 libasound2\n",
    "  ```\n",
    "* On Windows you need the [Microsoft Visual C++ Redistributable for Visual Studio 2017](https://support.microsoft.com/help/2977003/the-latest-supported-visual-c-downloads) for your platform.\n",
    "\n",
    "## Get the Speech SDK Python Package\n",
    "\n",
    "**By downloading the Microsoft Cognitive Services Speech SDK, you acknowledge its license, see [Speech SDK license agreement](https://aka.ms/csspeech/license201809).**\n",
    "\n",
    "The Cognitive Services Speech SDK Python package can be installed from [pyPI](https://pypi.org/) using this command:\n",
    "\n",
    "```sh\n",
    "pip install azure-cognitiveservices-speech\n",
    "```\n"
   ]
  },
  {
   "cell_type": "markdown",
   "metadata": {},
   "source": [
    "## Speech Recognition Using the Speech SDK"
   ]
  },
  {
   "cell_type": "code",
   "execution_count": 2,
   "metadata": {},
   "outputs": [
    {
     "name": "stdout",
     "output_type": "stream",
     "text": [
      "Collecting azure-cognitiveservices-speech\n",
      "  Downloading azure_cognitiveservices_speech-1.19.0-cp36-cp36m-manylinux1_x86_64.whl (2.0 MB)\n",
      "\u001b[K     |████████████████████████████████| 2.0 MB 18.0 MB/s eta 0:00:01\n",
      "\u001b[?25hInstalling collected packages: azure-cognitiveservices-speech\n",
      "Successfully installed azure-cognitiveservices-speech-1.19.0\n"
     ]
    }
   ],
   "source": [
    "!pip install azure-cognitiveservices-speech"
   ]
  },
  {
   "cell_type": "markdown",
   "metadata": {},
   "source": [
    "First, set up some general items. Import the Speech SDK Python:"
   ]
  },
  {
   "cell_type": "code",
   "execution_count": 3,
   "metadata": {},
   "outputs": [],
   "source": [
    "import azure.cognitiveservices.speech as speechsdk"
   ]
  },
  {
   "cell_type": "markdown",
   "metadata": {},
   "source": [
    "Set up the subscription info for the Speech Service:"
   ]
  },
  {
   "cell_type": "code",
   "execution_count": 4,
   "metadata": {},
   "outputs": [],
   "source": [
    "speech_key, service_region = \"  \", \" \""
   ]
  },
  {
   "cell_type": "markdown",
   "metadata": {},
   "source": [
    "Create an instance of a speech config with specified subscription key and service region.\n",
    "Replace with your own subscription key and service region (e.g., \"westus\")."
   ]
  },
  {
   "cell_type": "code",
   "execution_count": 5,
   "metadata": {},
   "outputs": [],
   "source": [
    "speech_config = speechsdk.SpeechConfig(subscription=speech_key, region=service_region)"
   ]
  },
  {
   "cell_type": "code",
   "execution_count": 27,
   "metadata": {},
   "outputs": [],
   "source": [
    "speech_config.output_format = speechsdk.OutputFormat.Detailed\n"
   ]
  },
  {
   "cell_type": "code",
   "execution_count": 64,
   "metadata": {},
   "outputs": [],
   "source": [
    "speech_config.speech_recognition_language =\"en-US\"\n",
    "speech_config.request_word_level_timestamps()\n",
    "audio_config = speechsdk.audio.AudioConfig(filename=\"wikipediaOcelot.wav\")"
   ]
  },
  {
   "cell_type": "markdown",
   "metadata": {},
   "source": [
    "Create a recognizer with the given settings. Since no explicit audio config is specified, the default microphone will be used (make sure the audio settings are correct)."
   ]
  },
  {
   "cell_type": "code",
   "execution_count": 65,
   "metadata": {},
   "outputs": [],
   "source": [
    "speech_recognizer = speechsdk.SpeechRecognizer(speech_config=speech_config, audio_config=audio_config)"
   ]
  },
  {
   "cell_type": "markdown",
   "metadata": {},
   "source": [
    "Starts speech recognition, and returns after a single utterance is recognized. The end of a\n",
    "single utterance is determined by listening for silence at the end or until a maximum of 15\n",
    "seconds of audio is processed.  The task returns the recognition text as result. \n",
    "Note: Since `recognize_once()` returns only a single utterance, it is suitable only for single\n",
    "shot recognition like command or query. \n",
    "For long-running multi-utterance recognition, use `start_continuous_recognition()` instead."
   ]
  },
  {
   "cell_type": "code",
   "execution_count": 66,
   "metadata": {},
   "outputs": [],
   "source": [
    "result = speech_recognizer.recognize_once()\n",
    "#result= speech_recognizer.start_continuous_recognition_async"
   ]
  },
  {
   "cell_type": "code",
   "execution_count": 67,
   "metadata": {},
   "outputs": [],
   "source": [
    "#result=speech_recognizer.start_continuous_recognition()\n",
    "import json\n"
   ]
  },
  {
   "cell_type": "code",
   "execution_count": 71,
   "metadata": {},
   "outputs": [
    {
     "name": "stdout",
     "output_type": "stream",
     "text": [
      "Recognized: The ocelot leopardus Pardalis is a small wild cat native to the southwestern United States, Mexico, and Central and South America.\n",
      "Offset: 10400000\n",
      "Duration: 92300000\n",
      "Detailed results - Lexical: the ocelot leopardus pardalis is a small wild cat native to the southwestern united states mexico and central and south america\n",
      "Detailed results - ITN: the ocelot leopardus pardalis is a small wild cat native to the southwestern united states mexico and central and south america\n",
      "Detailed results - MaskedITN: the ocelot leopardus pardalis is a small wild cat native to the southwestern united states mexico and central and south america\n",
      "Detailed results - Display: The ocelot leopardus Pardalis is a small wild cat native to the southwestern United States, Mexico, and Central and South America.\n",
      "Detailed results - Word timing:\n",
      "Word:\tOffset:\tDuration:\n",
      "the\t10400000\t2800000\n",
      "ocelot\t13300000\t7500000\n",
      "leopardus\t21800000\t6300000\n",
      "pardalis\t28200000\t8300000\n",
      "is\t37600000\t2300000\n",
      "a\t40000000\t700000\n",
      "small\t40800000\t4400000\n",
      "wild\t45300000\t4000000\n",
      "cat\t49400000\t4100000\n",
      "native\t54000000\t4300000\n",
      "to\t58400000\t1400000\n",
      "the\t59900000\t1200000\n",
      "southwestern\t61200000\t7100000\n",
      "united\t68400000\t3500000\n",
      "states\t72000000\t5200000\n",
      "mexico\t78200000\t6700000\n",
      "and\t87600000\t2500000\n",
      "central\t90200000\t3800000\n",
      "and\t94100000\t1200000\n",
      "south\t95400000\t2000000\n",
      "america\t97500000\t5200000\n"
     ]
    }
   ],
   "source": [
    "if result.reason == speechsdk.ResultReason.RecognizedSpeech:\n",
    "        print(\"Recognized: {}\".format(result.text))\n",
    "\n",
    "        # Time units are in hundreds of nanoseconds (HNS), where 10000 HNS equals 1 millisecond\n",
    "        print(\"Offset: {}\".format(result.offset))\n",
    "        print(\"Duration: {}\".format(result.duration))\n",
    "\n",
    "        # Now get the detailed recognition results from the JSON\n",
    "        json_result = json.loads(result.json)\n",
    "\n",
    "        # The first cell in the NBest list corresponds to the recognition results\n",
    "        # (NOT the cell with the highest confidence number!)\n",
    "        print(\"Detailed results - Lexical: {}\".format(json_result['NBest'][0]['Lexical']))\n",
    "        # ITN stands for Inverse Text Normalization\n",
    "        print(\"Detailed results - ITN: {}\".format(json_result['NBest'][0]['ITN']))\n",
    "        print(\"Detailed results - MaskedITN: {}\".format(json_result['NBest'][0]['MaskedITN']))\n",
    "        print(\"Detailed results - Display: {}\".format(json_result['NBest'][0]['Display']))\n",
    "\n",
    "        # Print word-level timing. Time units are HNS.\n",
    "        words = json_result['NBest'][0]['Words']\n",
    "        print(f\"Detailed results - Word timing:\\nWord:\\tOffset:\\tDuration:\")\n",
    "        for word in words:\n",
    "            print(f\"{word['Word']}\\t{word['Offset']}\\t{word['Duration']}\")"
   ]
  },
  {
   "cell_type": "code",
   "execution_count": 69,
   "metadata": {},
   "outputs": [
    {
     "data": {
      "text/plain": [
       "{'Id': '11485e3bee424dabb6ddaa91da266d30',\n",
       " 'RecognitionStatus': 'Success',\n",
       " 'Offset': 10400000,\n",
       " 'Duration': 92300000,\n",
       " 'DisplayText': 'The ocelot leopardus Pardalis is a small wild cat native to the southwestern United States, Mexico, and Central and South America.',\n",
       " 'NBest': [{'Confidence': 0.8405277,\n",
       "   'Lexical': 'the ocelot leopardus pardalis is a small wild cat native to the southwestern united states mexico and central and south america',\n",
       "   'ITN': 'the ocelot leopardus pardalis is a small wild cat native to the southwestern united states mexico and central and south america',\n",
       "   'MaskedITN': 'the ocelot leopardus pardalis is a small wild cat native to the southwestern united states mexico and central and south america',\n",
       "   'Display': 'The ocelot leopardus Pardalis is a small wild cat native to the southwestern United States, Mexico, and Central and South America.',\n",
       "   'Words': [{'Word': 'the', 'Offset': 10400000, 'Duration': 2800000},\n",
       "    {'Word': 'ocelot', 'Offset': 13300000, 'Duration': 7500000},\n",
       "    {'Word': 'leopardus', 'Offset': 21800000, 'Duration': 6300000},\n",
       "    {'Word': 'pardalis', 'Offset': 28200000, 'Duration': 8300000},\n",
       "    {'Word': 'is', 'Offset': 37600000, 'Duration': 2300000},\n",
       "    {'Word': 'a', 'Offset': 40000000, 'Duration': 700000},\n",
       "    {'Word': 'small', 'Offset': 40800000, 'Duration': 4400000},\n",
       "    {'Word': 'wild', 'Offset': 45300000, 'Duration': 4000000},\n",
       "    {'Word': 'cat', 'Offset': 49400000, 'Duration': 4100000},\n",
       "    {'Word': 'native', 'Offset': 54000000, 'Duration': 4300000},\n",
       "    {'Word': 'to', 'Offset': 58400000, 'Duration': 1400000},\n",
       "    {'Word': 'the', 'Offset': 59900000, 'Duration': 1200000},\n",
       "    {'Word': 'southwestern', 'Offset': 61200000, 'Duration': 7100000},\n",
       "    {'Word': 'united', 'Offset': 68400000, 'Duration': 3500000},\n",
       "    {'Word': 'states', 'Offset': 72000000, 'Duration': 5200000},\n",
       "    {'Word': 'mexico', 'Offset': 78200000, 'Duration': 6700000},\n",
       "    {'Word': 'and', 'Offset': 87600000, 'Duration': 2500000},\n",
       "    {'Word': 'central', 'Offset': 90200000, 'Duration': 3800000},\n",
       "    {'Word': 'and', 'Offset': 94100000, 'Duration': 1200000},\n",
       "    {'Word': 'south', 'Offset': 95400000, 'Duration': 2000000},\n",
       "    {'Word': 'america', 'Offset': 97500000, 'Duration': 5200000}]},\n",
       "  {'Confidence': 0.8308167,\n",
       "   'Lexical': \"the ocelot leopardus pardalis 's is a small wild cat native to the southwestern united states mexico and central and south america\",\n",
       "   'ITN': \"the ocelot leopardus pardalis 's is a small wild cat native to the southwestern united states mexico and central and south america\",\n",
       "   'MaskedITN': \"the ocelot leopardus pardalis 's is a small wild cat native to the southwestern united states mexico and central and south america\",\n",
       "   'Display': \"the ocelot leopardus pardalis 's is a small wild cat native to the southwestern united states mexico and central and south america\",\n",
       "   'Words': [{'Word': 'the', 'Offset': 10400000, 'Duration': 2700000},\n",
       "    {'Word': 'ocelot', 'Offset': 13200000, 'Duration': 7500000},\n",
       "    {'Word': 'leopardus', 'Offset': 21800000, 'Duration': 6300000},\n",
       "    {'Word': 'pardalis', 'Offset': 28200000, 'Duration': 8300000},\n",
       "    {'Word': \"'s\", 'Offset': 36600000, 'Duration': 900000},\n",
       "    {'Word': 'is', 'Offset': 37600000, 'Duration': 2300000},\n",
       "    {'Word': 'a', 'Offset': 40000000, 'Duration': 700000},\n",
       "    {'Word': 'small', 'Offset': 40800000, 'Duration': 4400000},\n",
       "    {'Word': 'wild', 'Offset': 45300000, 'Duration': 4000000},\n",
       "    {'Word': 'cat', 'Offset': 49400000, 'Duration': 4100000},\n",
       "    {'Word': 'native', 'Offset': 54000000, 'Duration': 4300000},\n",
       "    {'Word': 'to', 'Offset': 58400000, 'Duration': 1400000},\n",
       "    {'Word': 'the', 'Offset': 59900000, 'Duration': 1200000},\n",
       "    {'Word': 'southwestern', 'Offset': 61200000, 'Duration': 7100000},\n",
       "    {'Word': 'united', 'Offset': 68400000, 'Duration': 3500000},\n",
       "    {'Word': 'states', 'Offset': 72000000, 'Duration': 5200000},\n",
       "    {'Word': 'mexico', 'Offset': 78200000, 'Duration': 6700000},\n",
       "    {'Word': 'and', 'Offset': 87600000, 'Duration': 2500000},\n",
       "    {'Word': 'central', 'Offset': 90200000, 'Duration': 3800000},\n",
       "    {'Word': 'and', 'Offset': 94100000, 'Duration': 1200000},\n",
       "    {'Word': 'south', 'Offset': 95400000, 'Duration': 2000000},\n",
       "    {'Word': 'america', 'Offset': 97500000, 'Duration': 5200000}]},\n",
       "  {'Confidence': 0.84118897,\n",
       "   'Lexical': \"the ocelot leopardus pardalis is a small wild cat 's native to the southwestern united states mexico and central and south america\",\n",
       "   'ITN': \"the ocelot leopardus pardalis is a small wild cat 's native to the southwestern united states mexico and central and south america\",\n",
       "   'MaskedITN': \"the ocelot leopardus pardalis is a small wild cat 's native to the southwestern united states mexico and central and south america\",\n",
       "   'Display': \"the ocelot leopardus pardalis is a small wild cat 's native to the southwestern united states mexico and central and south america\",\n",
       "   'Words': [{'Word': 'the', 'Offset': 10400000, 'Duration': 2700000},\n",
       "    {'Word': 'ocelot', 'Offset': 13200000, 'Duration': 7500000},\n",
       "    {'Word': 'leopardus', 'Offset': 21800000, 'Duration': 6300000},\n",
       "    {'Word': 'pardalis', 'Offset': 28200000, 'Duration': 8300000},\n",
       "    {'Word': 'is', 'Offset': 37600000, 'Duration': 2300000},\n",
       "    {'Word': 'a', 'Offset': 40000000, 'Duration': 700000},\n",
       "    {'Word': 'small', 'Offset': 40800000, 'Duration': 4400000},\n",
       "    {'Word': 'wild', 'Offset': 45300000, 'Duration': 4000000},\n",
       "    {'Word': 'cat', 'Offset': 49400000, 'Duration': 4100000},\n",
       "    {'Word': \"'s\", 'Offset': 53600000, 'Duration': 300000},\n",
       "    {'Word': 'native', 'Offset': 54000000, 'Duration': 4300000},\n",
       "    {'Word': 'to', 'Offset': 58400000, 'Duration': 1400000},\n",
       "    {'Word': 'the', 'Offset': 59900000, 'Duration': 1200000},\n",
       "    {'Word': 'southwestern', 'Offset': 61200000, 'Duration': 7100000},\n",
       "    {'Word': 'united', 'Offset': 68400000, 'Duration': 3500000},\n",
       "    {'Word': 'states', 'Offset': 72000000, 'Duration': 5200000},\n",
       "    {'Word': 'mexico', 'Offset': 78200000, 'Duration': 6700000},\n",
       "    {'Word': 'and', 'Offset': 87600000, 'Duration': 2500000},\n",
       "    {'Word': 'central', 'Offset': 90200000, 'Duration': 3800000},\n",
       "    {'Word': 'and', 'Offset': 94100000, 'Duration': 1200000},\n",
       "    {'Word': 'south', 'Offset': 95400000, 'Duration': 2000000},\n",
       "    {'Word': 'america', 'Offset': 97500000, 'Duration': 5200000}]},\n",
       "  {'Confidence': 0.831055,\n",
       "   'Lexical': 'the ocelot leopardus pardalis is as small wild cat native to the southwestern united states mexico and central and south america',\n",
       "   'ITN': 'the ocelot leopardus pardalis is as small wild cat native to the southwestern united states mexico and central and south america',\n",
       "   'MaskedITN': 'the ocelot leopardus pardalis is as small wild cat native to the southwestern united states mexico and central and south america',\n",
       "   'Display': 'the ocelot leopardus pardalis is as small wild cat native to the southwestern united states mexico and central and south america',\n",
       "   'Words': [{'Word': 'the', 'Offset': 10400000, 'Duration': 2700000},\n",
       "    {'Word': 'ocelot', 'Offset': 13200000, 'Duration': 7500000},\n",
       "    {'Word': 'leopardus', 'Offset': 21800000, 'Duration': 6300000},\n",
       "    {'Word': 'pardalis', 'Offset': 28200000, 'Duration': 8300000},\n",
       "    {'Word': 'is', 'Offset': 37600000, 'Duration': 2300000},\n",
       "    {'Word': 'as', 'Offset': 40000000, 'Duration': 1200000},\n",
       "    {'Word': 'small', 'Offset': 41300000, 'Duration': 3900000},\n",
       "    {'Word': 'wild', 'Offset': 45300000, 'Duration': 4000000},\n",
       "    {'Word': 'cat', 'Offset': 49400000, 'Duration': 4100000},\n",
       "    {'Word': 'native', 'Offset': 54000000, 'Duration': 4300000},\n",
       "    {'Word': 'to', 'Offset': 58400000, 'Duration': 1400000},\n",
       "    {'Word': 'the', 'Offset': 59900000, 'Duration': 1200000},\n",
       "    {'Word': 'southwestern', 'Offset': 61200000, 'Duration': 7100000},\n",
       "    {'Word': 'united', 'Offset': 68400000, 'Duration': 3500000},\n",
       "    {'Word': 'states', 'Offset': 72000000, 'Duration': 5200000},\n",
       "    {'Word': 'mexico', 'Offset': 78200000, 'Duration': 6700000},\n",
       "    {'Word': 'and', 'Offset': 87600000, 'Duration': 2500000},\n",
       "    {'Word': 'central', 'Offset': 90200000, 'Duration': 3800000},\n",
       "    {'Word': 'and', 'Offset': 94100000, 'Duration': 1200000},\n",
       "    {'Word': 'south', 'Offset': 95400000, 'Duration': 2000000},\n",
       "    {'Word': 'america', 'Offset': 97500000, 'Duration': 5200000}]},\n",
       "  {'Confidence': 0.81659347,\n",
       "   'Lexical': 'the ocelot leopardus pardalis is a small wild cat native to the southwestern united states mexico and central and south america',\n",
       "   'ITN': 'the ocelot leopardus pardalis is a small wild cat native to the southwestern united states mexico and central and south america',\n",
       "   'MaskedITN': 'the ocelot leopardus pardalis is a small wild cat native to the southwestern united states mexico and central and south america',\n",
       "   'Display': 'the ocelot leopardus pardalis is a small wild CAT native to the southwestern united states mexico and central and south america',\n",
       "   'Words': [{'Word': 'the', 'Offset': 10400000, 'Duration': 2800000},\n",
       "    {'Word': 'ocelot', 'Offset': 13300000, 'Duration': 7400000},\n",
       "    {'Word': 'leopardus', 'Offset': 21800000, 'Duration': 6300000},\n",
       "    {'Word': 'pardalis', 'Offset': 28200000, 'Duration': 8300000},\n",
       "    {'Word': 'is', 'Offset': 37600000, 'Duration': 2300000},\n",
       "    {'Word': 'a', 'Offset': 40000000, 'Duration': 700000},\n",
       "    {'Word': 'small', 'Offset': 40800000, 'Duration': 4400000},\n",
       "    {'Word': 'wild', 'Offset': 45300000, 'Duration': 4000000},\n",
       "    {'Word': 'CAT', 'Offset': 49400000, 'Duration': 4100000},\n",
       "    {'Word': 'native', 'Offset': 54000000, 'Duration': 4300000},\n",
       "    {'Word': 'to', 'Offset': 58400000, 'Duration': 1400000},\n",
       "    {'Word': 'the', 'Offset': 59900000, 'Duration': 1200000},\n",
       "    {'Word': 'southwestern', 'Offset': 61200000, 'Duration': 7100000},\n",
       "    {'Word': 'united', 'Offset': 68400000, 'Duration': 3500000},\n",
       "    {'Word': 'states', 'Offset': 72000000, 'Duration': 5200000},\n",
       "    {'Word': 'mexico', 'Offset': 78200000, 'Duration': 6700000},\n",
       "    {'Word': 'and', 'Offset': 87600000, 'Duration': 2500000},\n",
       "    {'Word': 'central', 'Offset': 90200000, 'Duration': 3800000},\n",
       "    {'Word': 'and', 'Offset': 94100000, 'Duration': 1200000},\n",
       "    {'Word': 'south', 'Offset': 95400000, 'Duration': 2000000},\n",
       "    {'Word': 'america', 'Offset': 97500000, 'Duration': 5200000}]}]}"
      ]
     },
     "execution_count": 69,
     "metadata": {},
     "output_type": "execute_result"
    }
   ],
   "source": [
    "json_result"
   ]
  },
  {
   "cell_type": "code",
   "execution_count": null,
   "metadata": {},
   "outputs": [],
   "source": []
  }
 ],
 "metadata": {
  "kernelspec": {
   "display_name": "Python 3",
   "language": "python",
   "name": "python3"
  },
  "language_info": {
   "codemirror_mode": {
    "name": "ipython",
    "version": 3
   },
   "file_extension": ".py",
   "mimetype": "text/x-python",
   "name": "python",
   "nbconvert_exporter": "python",
   "pygments_lexer": "ipython3",
   "version": "3.6.9"
  }
 },
 "nbformat": 4,
 "nbformat_minor": 2
}
